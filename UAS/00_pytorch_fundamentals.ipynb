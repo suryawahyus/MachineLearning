{
  "nbformat": 4,
  "nbformat_minor": 0,
  "metadata": {
    "colab": {
      "provenance": [],
      "include_colab_link": true
    },
    "kernelspec": {
      "name": "python3",
      "display_name": "Python 3"
    },
    "language_info": {
      "name": "python"
    },
    "accelerator": "GPU"
  },
  "cells": [
    {
      "cell_type": "markdown",
      "metadata": {
        "id": "view-in-github",
        "colab_type": "text"
      },
      "source": [
        "<a href=\"https://colab.research.google.com/github/suryawahyus/MachineLearning/blob/main/UAS/00_pytorch_fundamentals.ipynb\" target=\"_parent\"><img src=\"https://colab.research.google.com/assets/colab-badge.svg\" alt=\"Open In Colab\"/></a>"
      ]
    },
    {
      "cell_type": "markdown",
      "source": [
        "# 00. PyTorch Fundamentals Exercises\n",
        "\n",
        "### 1. Documentation reading\n",
        "\n",
        "**Apa itu PyTorch?**\n",
        "PyTorch adalah sebuah pustaka komputasi ilmiah open-source yang banyak digunakan dalam pengembangan aplikasi pembelajaran mesin (machine learning) dan pembelajaran mendalam (deep learning). Awalnya dikembangkan oleh tim peneliti dan insinyur di Facebook's AI Research lab, PyTorch kini menjadi salah satu kerangka kerja (framework) terdepan dalam bidang kecerdasan buatan.\n",
        "\n",
        "**Fungsi PyTorch:**\n",
        "1. **Tensor Computing (seperti NumPy, tetapi dengan kemampuan GPU)**: PyTorch menyediakan struktur data inti yang disebut 'Tensor', mirip dengan array dalam NumPy, tetapi dengan dukungan komputasi pada GPU yang mempercepat proses komputasi.\n",
        "2. **Pembelajaran Mendalam**: PyTorch menyediakan modul dan kelas untuk membangun dan melatih jaringan saraf tiruan. Ini termasuk fasilitas untuk autograd (perhitungan gradien otomatis), yang sangat berguna untuk backpropagation dalam pelatihan jaringan.\n",
        "3. **Pengembangan Prototipe yang Fleksibel dan Interaktif**: PyTorch mendukung pendekatan yang lebih imperatif dan dinamis untuk pengembangan model, yang sering kali lebih intuitif dan mudah diadaptasi untuk penelitian dan pengembangan prototipe.\n",
        "4. **Integrasi dengan Ekosistem Python**: PyTorch terintegrasi dengan baik dengan ekosistem Python yang lebih luas, termasuk pustaka seperti NumPy, SciPy, dan Pandas.\n",
        "\n",
        "**Keunggulan PyTorch:**\n",
        "1. **Interface yang User-Friendly**: PyTorch dikenal karena memiliki API yang jelas dan mudah dipahami, memudahkan para pengembang dan peneliti untuk membuat dan bereksperimen dengan model-model AI.\n",
        "2. **Grafik Komputasi Dinamis (Dynamic Computational Graphs)**: Dikenal sebagai *define-by-run* approach, di mana grafik komputasi dibangun saat kode dijalankan. Hal ini memungkinkan perubahan lebih fleksibel pada grafik selama runtime, yang sangat berguna untuk penelitian.\n",
        "3. **Komunitas yang Kuat dan Berkembang**: Sebagai salah satu framework populer, PyTorch didukung oleh komunitas yang besar dan aktif, menyediakan banyak sumber daya pembelajaran, dokumentasi, dan forum diskusi.\n",
        "4. **Dukungan Luas untuk Penelitian dan Pengembangan**: PyTorch banyak digunakan dalam penelitian AI karena kemudahannya dalam mengimplementasikan ide-ide baru dan eksperimen, serta memiliki dukungan untuk alat-alat penelitian canggih.\n",
        "5. **Integrasi dengan Ekosistem Machine Learning**: Mendukung integrasi dengan ekosistem machine learning yang lebih besar, termasuk pustaka untuk visualisasi data, pemrosesan data, dan lain-lain.\n",
        "\n",
        "PyTorch menjadi pilihan utama bagi banyak peneliti dan insinyur di bidang AI karena kombinasi keunggulan ini, terutama dalam hal fleksibilitas dan kemudahan penggunaan.\n",
        "  * The documentation on [`torch.Tensor`](https://pytorch.org/docs/stable/tensors.html#torch-tensor).\n",
        "  * The documentation on [`torch.cuda`](https://pytorch.org/docs/master/notes/cuda.html#cuda-semantics).\n",
        "\n"
      ],
      "metadata": {
        "id": "AzDBM_v4iMe7"
      }
    },
    {
      "cell_type": "markdown",
      "source": [
        "### 2. Create a random tensor with shape `(5, 5)`.\n"
      ],
      "metadata": {
        "id": "__iXqqz-ioUJ"
      }
    },
    {
      "cell_type": "code",
      "source": [
        "# Mengimpor torch\n",
        "import torch\n",
        "\n",
        "# Membuat tensor acak\n",
        "tensor_acak = torch.rand((5, 5))\n",
        "print(tensor_acak)\n"
      ],
      "metadata": {
        "id": "6pUq9Dc8i2L7",
        "colab": {
          "base_uri": "https://localhost:8080/"
        },
        "outputId": "7c8ec548-885e-4e58-945a-eeb8e13d1b9f"
      },
      "execution_count": 10,
      "outputs": [
        {
          "output_type": "stream",
          "name": "stdout",
          "text": [
            "tensor([[0.6604, 0.1303, 0.3498, 0.3824, 0.8043],\n",
            "        [0.3186, 0.2908, 0.4196, 0.3728, 0.3769],\n",
            "        [0.0108, 0.9455, 0.7661, 0.2634, 0.1880],\n",
            "        [0.5174, 0.7849, 0.1412, 0.3112, 0.7091],\n",
            "        [0.1775, 0.4443, 0.1230, 0.9638, 0.7695]])\n"
          ]
        }
      ]
    },
    {
      "cell_type": "markdown",
      "source": [
        "### 3. Perform a matrix multiplication on the tensor from 2 with another random tensor with shape `(1, 5)` (hint: you may have to transpose the second tensor)."
      ],
      "metadata": {
        "id": "9-XxvRLfiqkR"
      }
    },
    {
      "cell_type": "code",
      "source": [
        "# Membuat tensor acak lain\n",
        "tensor_acak_lain = torch.rand((1, 5))\n",
        "\n",
        "# Melakukan perkalian matriks\n",
        "hasil_perkalian = tensor_acak @ tensor_acak_lain.T\n",
        "print(hasil_perkalian, hasil_perkalian.size())"
      ],
      "metadata": {
        "id": "NcLqR0Sbi_vT",
        "colab": {
          "base_uri": "https://localhost:8080/"
        },
        "outputId": "96720cd5-201a-43f1-d828-40d51c271dd1"
      },
      "execution_count": 13,
      "outputs": [
        {
          "output_type": "stream",
          "name": "stdout",
          "text": [
            "tensor([[1.5878],\n",
            "        [1.1858],\n",
            "        [1.4385],\n",
            "        [1.7565],\n",
            "        [1.7080]]) torch.Size([5, 1])\n"
          ]
        }
      ]
    },
    {
      "cell_type": "markdown",
      "source": [
        "### 4. Set the random seed to `0` and do 2 & 3 over again.\n",
        "\n",
        "The output should be:\n",
        "```\n",
        "tensor([[1.0015],\n",
        "        [0.7964],\n",
        "        [0.9888],\n",
        "        [0.9036],\n",
        "        [1.1845]])\n",
        "```"
      ],
      "metadata": {
        "id": "eiutdKUFiryU"
      }
    },
    {
      "cell_type": "code",
      "source": [
        "# Mengatur seed manual\n",
        "torch.manual_seed(0)\n",
        "\n",
        "# Membuat dua tensor acak\n",
        "tensor_acak_1 = torch.rand((5, 5))\n",
        "tensor_acak_2 = torch.rand((1, 5))\n",
        "\n",
        "# Mengalikan matriks tensor\n",
        "hasil_perkalian = tensor_acak_1 @ tensor_acak_2.T\n",
        "print(hasil_perkalian, hasil_perkalian.size())\n"
      ],
      "metadata": {
        "id": "D-lOWI_1jRMm",
        "colab": {
          "base_uri": "https://localhost:8080/"
        },
        "outputId": "7e341a42-1273-4d20-f4c4-365c8183f4ad"
      },
      "execution_count": 15,
      "outputs": [
        {
          "output_type": "stream",
          "name": "stdout",
          "text": [
            "tensor([[1.1488],\n",
            "        [1.1704],\n",
            "        [0.7175],\n",
            "        [1.1156],\n",
            "        [1.5817]]) torch.Size([5, 1])\n"
          ]
        }
      ]
    },
    {
      "cell_type": "markdown",
      "source": [
        "### 5. Speaking of random seeds, we saw how to set it with `torch.manual_seed()` but is there a GPU equivalent? (hint: you'll need to look into the documentation for `torch.cuda` for this one)\n",
        "  * If there is, set the GPU random seed to `1234`."
      ],
      "metadata": {
        "id": "ezY6ks9Cis37"
      }
    },
    {
      "cell_type": "code",
      "source": [
        "# Mengatur seed acak di GPU\n",
        "torch.cuda.manual_seed(1234)\n"
      ],
      "metadata": {
        "id": "_LKWcfSTjp00"
      },
      "execution_count": 16,
      "outputs": []
    },
    {
      "cell_type": "markdown",
      "source": [
        "\n",
        "### 6. Create two random tensors of shape `(2, 3)` and send them both to the GPU (you'll need access to a GPU for this). Set `torch.manual_seed(1234)` when creating the tensors (this doesn't have to be the GPU random seed). The output should be something like:\n",
        "\n",
        "```\n",
        "Device: cuda\n",
        "(tensor([[0.0290, 0.4019, 0.2598],\n",
        "         [0.3666, 0.0583, 0.7006]], device='cuda:0'),\n",
        " tensor([[0.0518, 0.4681, 0.6738],\n",
        "         [0.3315, 0.7837, 0.5631]], device='cuda:0'))\n",
        "```"
      ],
      "metadata": {
        "id": "Ir9qSaj6it4n"
      }
    },
    {
      "cell_type": "code",
      "source": [
        "# Mengatur seed acak\n",
        "torch.manual_seed(1234)\n",
        "\n",
        "# Memeriksa akses ke GPU\n",
        "if torch.cuda.is_available():\n",
        "    # Membuat dua tensor acak di GPU\n",
        "    tensor_a = torch.rand((2, 3), device='cuda')\n",
        "    tensor_b = torch.rand((2, 3), device='cuda')\n",
        "    print(\"Perangkat:\", tensor_a.device)\n",
        "    print(tensor_a)\n",
        "    print(tensor_b)\n"
      ],
      "metadata": {
        "id": "azXExiFZj5nm",
        "colab": {
          "base_uri": "https://localhost:8080/"
        },
        "outputId": "00b36c7a-c804-43df-8b54-5cb48935549c"
      },
      "execution_count": 17,
      "outputs": [
        {
          "output_type": "stream",
          "name": "stdout",
          "text": [
            "Perangkat: cuda:0\n",
            "tensor([[0.1272, 0.8167, 0.5440],\n",
            "        [0.6601, 0.2721, 0.9737]], device='cuda:0')\n",
            "tensor([[0.6208, 0.0276, 0.3255],\n",
            "        [0.1114, 0.6812, 0.3608]], device='cuda:0')\n"
          ]
        }
      ]
    },
    {
      "cell_type": "markdown",
      "source": [
        "\n",
        "### 7. Perform a matrix multiplication on the tensors you created in 6 (again, you may have to adjust the shapes of one of the tensors).\n",
        "\n",
        "The output should look like:\n",
        "```\n",
        "(tensor([[0.3647, 0.4709],\n",
        "         [0.5184, 0.5617]], device='cuda:0'), torch.Size([2, 2]))\n",
        "```"
      ],
      "metadata": {
        "id": "5TlAxeiSiu1y"
      }
    },
    {
      "cell_type": "code",
      "source": [
        "# Melakukan perkalian matriks pada tensor_A dan tensor_B\n",
        "hasil_perkalian = tensor_a @ tensor_b.T\n",
        "print(hasil_perkalian)\n"
      ],
      "metadata": {
        "id": "fAeG7ox0lHEO",
        "colab": {
          "base_uri": "https://localhost:8080/"
        },
        "outputId": "4d5434c4-ee63-48a9-c47c-ba8ff9e4deec"
      },
      "execution_count": 18,
      "outputs": [
        {
          "output_type": "stream",
          "name": "stdout",
          "text": [
            "tensor([[0.2786, 0.7668],\n",
            "        [0.7343, 0.6102]], device='cuda:0')\n"
          ]
        }
      ]
    },
    {
      "cell_type": "markdown",
      "source": [
        "### 8. Find the maximum and minimum values of the output of 7."
      ],
      "metadata": {
        "id": "G7qfa5CSivwg"
      }
    },
    {
      "cell_type": "code",
      "source": [
        "# Menemukan nilai maksimum\n",
        "nilai_max = hasil_perkalian.max()\n",
        "print(\"Nilai Maksimum:\", nilai_max)\n",
        "\n",
        "# Menemukan nilai minimum\n",
        "nilai_min = hasil_perkalian.min()\n",
        "print(\"Nilai Minimum:\", nilai_min)\n"
      ],
      "metadata": {
        "id": "Fu8_3mZpllOd",
        "colab": {
          "base_uri": "https://localhost:8080/"
        },
        "outputId": "55622ba0-8e7b-4b6e-8d97-0ba14fbbf755"
      },
      "execution_count": 19,
      "outputs": [
        {
          "output_type": "stream",
          "name": "stdout",
          "text": [
            "Nilai Maksimum: tensor(0.7668, device='cuda:0')\n",
            "Nilai Minimum: tensor(0.2786, device='cuda:0')\n"
          ]
        }
      ]
    },
    {
      "cell_type": "markdown",
      "source": [
        "### 9. Find the maximum and minimum index values of the output of 7."
      ],
      "metadata": {
        "id": "wrTj5FgNiw47"
      }
    },
    {
      "cell_type": "code",
      "source": [
        "# Menemukan arg max\n",
        "indeks_max = hasil_perkalian.argmax()\n",
        "print(\"Indeks Maksimum:\", indeks_max)\n",
        "\n",
        "# Menemukan arg min\n",
        "indeks_min = hasil_perkalian.argmin()\n",
        "print(\"Indeks Minimum:\", indeks_min)\n"
      ],
      "metadata": {
        "id": "CCEKt4K2lsfQ",
        "colab": {
          "base_uri": "https://localhost:8080/"
        },
        "outputId": "390eaa56-fc57-4866-bea0-b7e9548df2b5"
      },
      "execution_count": 20,
      "outputs": [
        {
          "output_type": "stream",
          "name": "stdout",
          "text": [
            "Indeks Maksimum: tensor(1, device='cuda:0')\n",
            "Indeks Minimum: tensor(0, device='cuda:0')\n"
          ]
        }
      ]
    },
    {
      "cell_type": "markdown",
      "source": [
        "\n",
        "### 10. Make a random tensor with shape `(1, 1, 1, 10)` and then create a new tensor with all the `1` dimensions removed to be left with a tensor of shape `(10)`. Set the seed to `7` when you create it and print out the first tensor and it's shape as well as the second tensor and it's shape.\n",
        "\n",
        "The output should look like:\n",
        "\n",
        "```\n",
        "tensor([[[[0.5349, 0.1988, 0.6592, 0.6569, 0.2328, 0.4251, 0.2071, 0.6297,\n",
        "           0.3653, 0.8513]]]]) torch.Size([1, 1, 1, 10])\n",
        "tensor([0.5349, 0.1988, 0.6592, 0.6569, 0.2328, 0.4251, 0.2071, 0.6297, 0.3653,\n",
        "        0.8513]) torch.Size([10])\n",
        "```"
      ],
      "metadata": {
        "id": "hmeybz4uixy7"
      }
    },
    {
      "cell_type": "code",
      "source": [
        "# Mengatur seed\n",
        "torch.manual_seed(7)\n",
        "\n",
        "# Membuat tensor acak\n",
        "tensor_acak = torch.rand((1, 1, 1, 10))\n",
        "print(tensor_acak, tensor_acak.size())\n",
        "\n",
        "# Menghilangkan dimensi tunggal\n",
        "tensor_baru = tensor_acak.squeeze()\n",
        "print(tensor_baru, tensor_baru.size())\n"
      ],
      "metadata": {
        "id": "TQ9zbRzVl1jV",
        "colab": {
          "base_uri": "https://localhost:8080/"
        },
        "outputId": "818fabb5-c6f2-448d-9c02-33fa94908985"
      },
      "execution_count": 21,
      "outputs": [
        {
          "output_type": "stream",
          "name": "stdout",
          "text": [
            "tensor([[[[0.5349, 0.1988, 0.6592, 0.6569, 0.2328, 0.4251, 0.2071, 0.6297,\n",
            "           0.3653, 0.8513]]]]) torch.Size([1, 1, 1, 10])\n",
            "tensor([0.5349, 0.1988, 0.6592, 0.6569, 0.2328, 0.4251, 0.2071, 0.6297, 0.3653,\n",
            "        0.8513]) torch.Size([10])\n"
          ]
        }
      ]
    }
  ]
}